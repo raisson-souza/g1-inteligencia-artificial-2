{
 "cells": [
  {
   "cell_type": "code",
   "execution_count": null,
   "id": "51fcb8b2",
   "metadata": {},
   "outputs": [
    {
     "name": "stdout",
     "output_type": "stream",
     "text": [
      "Quantidade de registros: 35995\n",
      "\n",
      "       id  student_id                      birthdate sex                city  \\\n",
      "2138    1       99951  1992-05-21 02:00:00.000 -0300   F  Faxinal do Soturno   \n",
      "5665    3       99951  1992-05-21 02:00:00.000 -0300   F  Faxinal do Soturno   \n",
      "9160    2       99951  1992-05-21 02:00:00.000 -0300   F  Faxinal do Soturno   \n",
      "28710   4       99955  1989-01-06 04:00:00.000 -0200   M  Faxinal do Soturno   \n",
      "28312   8       99955  1989-01-06 04:00:00.000 -0200   M  Faxinal do Soturno   \n",
      "\n",
      "                   course  period week_day                       discipline  \\\n",
      "2138   Ciências Contábeis  2021/1   Quarta              Matemática Aplicada   \n",
      "5665   Ciências Contábeis  2021/2  Segunda      Contabilidade Intermediária   \n",
      "9160   Ciências Contábeis  2022/1    Terça           Contabilidade Avançada   \n",
      "28710  Ciências Contábeis  2025/1  Segunda       Contabilidade Introdutória   \n",
      "28312  Ciências Contábeis  2025/1   Quarta  Legislação e Ética Profissional   \n",
      "\n",
      "         status   g1   g2  final_grade  class_skips  \n",
      "2138   Aprovado  7.5  7.0          7.2            0  \n",
      "5665   Aprovado  7.2  8.9          8.0            0  \n",
      "9160   Trancado -1.0 -1.0         -1.0            0  \n",
      "28710  Aprovado  8.4  8.8          8.6            0  \n",
      "28312  Aprovado  9.8  9.9          9.8            0  \n"
     ]
    }
   ],
   "source": [
    "from utils.get_only_information_systems_students import get_only_information_systems_students\n",
    "from utils.treat_dataset import treat_dataset\n",
    "import pandas as pd\n",
    "\n",
    "dataset_path = \"datasets/global.csv\"\n",
    "\n",
    "df = pd.read_csv(dataset_path)\n",
    "df = df.sort_values(by=[\"student_id\", \"period\", \"discipline\"])\n",
    "\n",
    "# Remoção do \"traço\" e do crédito da disciplina no nome da mesma\n",
    "df[\"discipline\"] = df[\"discipline\"].str.split(\" - \").str[0].str.strip()\n",
    "df[\"discipline\"] = df[\"discipline\"].str.split(\" -72\").str[0].str.strip() # Remoção para caso especial em \"Gestão da Qualidade de Software\"\n",
    "\n",
    "print(f\"Quantidade de registros: {len(df)}\\n\")\n",
    "print(df.head())"
   ]
  },
  {
   "cell_type": "code",
   "execution_count": 74,
   "id": "cf00e915",
   "metadata": {},
   "outputs": [
    {
     "name": "stdout",
     "output_type": "stream",
     "text": [
      "Quantidade de registros: 4604\n",
      "\n",
      "       id  student_id                  course   period  \\\n",
      "133   248      100004  Sistemas de Informação   2020/2   \n",
      "111   249      100004  Sistemas de Informação   2020/2   \n",
      "134   247      100004  Sistemas de Informação   2020/2   \n",
      "653   246      100004  Sistemas de Informação   2020/2   \n",
      "1918  250      100004  Sistemas de Informação  2020/F2   \n",
      "\n",
      "                                     discipline                    status  \\\n",
      "133             Gestão da Qualidade de Software                  Aprovado   \n",
      "111                 Laboratório de Algoritmo II  Reprovado por Frequência   \n",
      "134   Organização e Arquitetura de Computadores                  Aprovado   \n",
      "653                         Psicologia do Líder                  Aprovado   \n",
      "1918       Programação para Dispositivos Móveis                  Aprovado   \n",
      "\n",
      "        g1    g2  final_grade  class_skips  \n",
      "133    9.7   8.0          8.8            0  \n",
      "111    0.0   0.0          0.0           24  \n",
      "134    8.3   8.2          8.2            4  \n",
      "653    6.5   9.0          7.7            0  \n",
      "1918  10.0  10.0         10.0            0  \n"
     ]
    }
   ],
   "source": [
    "# Remoção de colunas não utilizadas\n",
    "df = treat_dataset(df)\n",
    "\n",
    "# Filtragem de registros apenas de alunos de Sistemas de Informação\n",
    "df = get_only_information_systems_students(df)\n",
    "\n",
    "print(f\"Quantidade de registros: {len(df)}\\n\")\n",
    "print(df.head())"
   ]
  },
  {
   "cell_type": "code",
   "execution_count": 75,
   "id": "f34d02bf",
   "metadata": {},
   "outputs": [],
   "source": [
    "# Salva dataset atual filtrado apenas para Sistemas de Informação\n",
    "df.to_csv(\"datasets/sistemas_de_informacao.csv\", index=False, encoding=\"utf-8\")"
   ]
  },
  {
   "cell_type": "code",
   "execution_count": 76,
   "id": "de7367b4",
   "metadata": {
    "slideshow": {
     "slide_type": "slide"
    }
   },
   "outputs": [
    {
     "name": "stdout",
     "output_type": "stream",
     "text": [
      "Quantidade de disciplinas: 110\n",
      "\n",
      "Disciplina X Quantidade\n",
      "\n",
      "discipline\n",
      "Estrutura de Dados                                                                                 201\n",
      "Organização e Arquitetura de Computadores                                                          193\n",
      "Competência Competitiva no Universo da Tecnologia                                                  178\n",
      "Probabilidade e Estatística                                                                        165\n",
      "Laboratório de Algoritmos II                                                                       151\n",
      "                                                                                                  ... \n",
      "Trabalho de Conclusão de Curso em Administração                                                      1\n",
      "Cultura Humanista e Igualdade nas Relações Étnico-Raciais e História Afro-Brasileira e Indígena      1\n",
      "O Mundo do Trabalho e a Administração                                                                1\n",
      "Personalidade e Carreiras Jurídicas                                                                  1\n",
      "Métodos de Pesquisa Científica em Ontopsicologia                                                     1\n",
      "Name: count, Length: 110, dtype: int64\n"
     ]
    }
   ],
   "source": [
    "# Mostra a quantidade de disciplinas (com agrupamento)\n",
    "discipline_counts = df[\"discipline\"].value_counts()\n",
    "\n",
    "print(f\"Quantidade de disciplinas: {len(discipline_counts)}\\n\")\n",
    "print(\"Disciplina X Quantidade\\n\")\n",
    "print(discipline_counts)"
   ]
  },
  {
   "cell_type": "code",
   "execution_count": 77,
   "id": "7b0e5d95",
   "metadata": {},
   "outputs": [],
   "source": [
    "# Salva dataset atual apenas registros de disciplinas agrupadas para fins de análise\n",
    "discipline_counts_df = discipline_counts.reset_index()\n",
    "discipline_counts_df.columns = [\"discipline\", \"count\"]\n",
    "discipline_counts_df.to_csv(\"datasets/sistemas_de_informacao_disciplines_grouped.csv\", index=False, encoding=\"utf-8\")"
   ]
  },
  {
   "cell_type": "code",
   "execution_count": null,
   "id": "7115fb66",
   "metadata": {},
   "outputs": [
    {
     "name": "stdout",
     "output_type": "stream",
     "text": [
      "Registros viáveis para previsão de aprovação: 2591\n",
      "\n",
      "       id  student_id                  course   period  \\\n",
      "133   248      100004  Sistemas de Informação   2020/2   \n",
      "134   247      100004  Sistemas de Informação   2020/2   \n",
      "653   246      100004  Sistemas de Informação   2020/2   \n",
      "1918  250      100004  Sistemas de Informação  2020/F2   \n",
      "2274  251      100004  Sistemas de Informação   2021/1   \n",
      "\n",
      "                                     discipline    status    g1    g2  \\\n",
      "133             Gestão da Qualidade de Software  Aprovado   9.7   8.0   \n",
      "134   Organização e Arquitetura de Computadores  Aprovado   8.3   8.2   \n",
      "653                         Psicologia do Líder  Aprovado   6.5   9.0   \n",
      "1918       Programação para Dispositivos Móveis  Aprovado  10.0  10.0   \n",
      "2274     Análise e Projeto Orientados a Objetos  Aprovado   8.0   8.5   \n",
      "\n",
      "      final_grade  class_skips  \n",
      "133           8.8            0  \n",
      "134           8.2            4  \n",
      "653           7.7            0  \n",
      "1918         10.0            0  \n",
      "2274          8.2            0  \n"
     ]
    }
   ],
   "source": [
    "# Cadeiras necessárias para a previsão de aprovação (até o 3° semestre)\n",
    "required_disciplines = [\n",
    "    \"Fundamentos de Sistemas de Informação\",\n",
    "    \"Laboratório de Algoritmos\",\n",
    "    \"Laboratório de Algoritmos I\",\n",
    "    \"Pensamento Computacional\",\n",
    "    \"Estrutura de Dados\",\n",
    "    \"Organização e Arquitetura de Computadores\",\n",
    "    \"Sistemas de Informação Gerenciais\",\n",
    "    \"Gerenciamento de Serviços de TI\",\n",
    "    \"Classificação e Pesquisa de Dados\",\n",
    "    \"Fundamentos de Banco de Dados\",\n",
    "    \"Sistemas Operacionais\",\n",
    "    # Matemática\n",
    "    \"Cálculo Numérico\",\n",
    "    \"Probabilidade e Estatística\",\n",
    "    \"Matemática Discreta\",\n",
    "    # FOIL\n",
    "    \"O Mundo do Trabalho e a Tecnologia\",\n",
    "    \"Competência Competitiva no Universo da Tecnologia\",\n",
    "    \"Personalidade e Carreiras Tecnológicas\",\n",
    "    # INGLÊS\n",
    "    \"Língua Inglesa I\",\n",
    "    \"Língua Inglesa II\",\n",
    "    \"Língua Inglesa III\",\n",
    "]\n",
    "\n",
    "# Agrupamento por aluno e disciplinas\n",
    "student_disciplines = df.groupby(\"student_id\")[\"discipline\"].apply(set)\n",
    "\n",
    "# Filtragem do dataset para manter registros de alunos que tenham cursado ao menos uma das disciplinas listadas\n",
    "valid_students = student_disciplines[student_disciplines.apply(lambda d: len(set(required_disciplines).intersection(d)) > 0)].index\n",
    "\n",
    "# Filtragem do dataset original mantendo todos os registros desses alunos\n",
    "filtered_df = df[df[\"student_id\"].isin(valid_students)].copy()\n",
    "\n",
    "# Nova filtragem mantendo apenas cadeiras aprovadas\n",
    "filtered_df = filtered_df[filtered_df[\"status\"] == \"Aprovado\"].copy()\n",
    "\n",
    "print(f\"Registros viáveis para previsão de aprovação: {len(filtered_df)}\\n\")\n",
    "print(filtered_df.head())"
   ]
  }
 ],
 "metadata": {
  "kernelspec": {
   "display_name": "venv",
   "language": "python",
   "name": "python3"
  },
  "language_info": {
   "codemirror_mode": {
    "name": "ipython",
    "version": 3
   },
   "file_extension": ".py",
   "mimetype": "text/x-python",
   "name": "python",
   "nbconvert_exporter": "python",
   "pygments_lexer": "ipython3",
   "version": "3.11.1"
  }
 },
 "nbformat": 4,
 "nbformat_minor": 5
}
